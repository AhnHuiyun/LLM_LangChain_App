{
 "cells": [
  {
   "cell_type": "code",
   "execution_count": 1,
   "id": "ef066dbb",
   "metadata": {},
   "outputs": [
    {
     "data": {
      "text/plain": [
       "True"
      ]
     },
     "execution_count": 1,
     "metadata": {},
     "output_type": "execute_result"
    }
   ],
   "source": [
    "from dotenv import load_dotenv\n",
    "load_dotenv()"
   ]
  },
  {
   "cell_type": "code",
   "execution_count": 2,
   "id": "00545b80",
   "metadata": {},
   "outputs": [],
   "source": [
    "import re\n",
    "import os, json\n",
    "\n",
    "from textwrap import dedent\n",
    "from pprint import pprint\n",
    "\n",
    "import warnings\n",
    "warnings.filterwarnings(\"ignore\")"
   ]
  },
  {
   "cell_type": "markdown",
   "id": "7b7a2c73",
   "metadata": {},
   "source": [
    "### 문제 5-1 : 카페 메뉴 도구(Tool) 호출 체인 구현"
   ]
  },
  {
   "cell_type": "code",
   "execution_count": null,
   "id": "80e32035",
   "metadata": {},
   "outputs": [],
   "source": [
    "from pathlib import Path\n",
    "from langchain_community.vectorstores import FAISS\n",
    "from langchain_community.document_loaders import TextLoader\n",
    "from langchain.text_splitter import CharacterTextSplitter\n",
    "from langchain_ollama import OllamaEmbeddings\n",
    "\n",
    "data_path = Path(\"../data/cafe_menu_data.txt\")\n",
    "db_path = \"../db/cafe_db\"\n",
    "\n",
    "loader = TextLoader(\"../data/cafe_menu_data.txt\", encoding=\"utf-8\")\n",
    "documents = loader.load()\n",
    "\n",
    "splitter = CharacterTextSplitter(chunk_size=200, chunk_overlap=20)\n",
    "docs = splitter.split_documents(documents)\n",
    "\n",
    "embedding = OllamaEmbeddings(model=\"bge-m3\")  \n",
    "vectorstore = FAISS.from_documents(docs, embedding)\n",
    "vectorstore.save_local(db_path)"
   ]
  },
  {
   "cell_type": "code",
   "execution_count": 27,
   "id": "a7a13beb",
   "metadata": {},
   "outputs": [],
   "source": [
    "from langchain.tools import tool\n",
    "from langchain_community.utilities import WikipediaAPIWrapper\n",
    "from langchain_community.tools.tavily_search import TavilySearchResults\n",
    "from langchain_community.vectorstores import FAISS\n",
    "from langchain_ollama import OllamaEmbeddings\n",
    "\n",
    "@tool\n",
    "def wiki_summary(query: str) -> str:\n",
    "    \"\"\"위키피디아에서 요약된 정보를 제공합니다.\"\"\"\n",
    "    wiki = WikipediaAPIWrapper(lang=\"ko\")\n",
    "    return wiki.run(query)\n",
    "\n",
    "@tool\n",
    "def tavily_search_func(query: str) -> str:\n",
    "    \"\"\"웹에서 최신 정보를 검색합니다.\"\"\"\n",
    "    search = TavilySearchResults(k=3)\n",
    "    return search.run(query)\n",
    "\n",
    "@tool\n",
    "def db_search_cafe_func(query: str) -> str:\n",
    "    \"\"\"로컬 카페 메뉴 DB에서 관련 정보를 검색합니다.\"\"\"\n",
    "    db = FAISS.load_local(\"../db/cafe_db\", OllamaEmbeddings(model=\"bge-m3:latest\"), allow_dangerous_deserialization=True)\n",
    "    docs = db.similarity_search(query, k=2)\n",
    "    return \"\\n\".join([doc.page_content for doc in docs])\n"
   ]
  },
  {
   "cell_type": "code",
   "execution_count": 28,
   "id": "0b9b21fa",
   "metadata": {},
   "outputs": [
    {
     "name": "stdout",
     "output_type": "stream",
     "text": [
      "\n",
      "\n",
      "\u001b[1m> Entering new AgentExecutor chain...\u001b[0m\n",
      "\u001b[32;1m\u001b[1;3m\n",
      "Invoking: `db_search_cafe_func` with `{'query': '아메리카노'}`\n",
      "\n",
      "\n",
      "\u001b[0m\u001b[38;5;200m\u001b[1;3m1. 아메리카노\n",
      "   • 가격: ₩4,500\n",
      "   • 주요 원료: 에스프레소, 뜨거운 물\n",
      "   • 설명: 진한 에스프레소에 뜨거운 물을 더해 만든 클래식한 블랙 커피입니다. 원두 본연의 맛을 가장 잘 느낄 수 있으며, 깔끔하고 깊은 풍미가 특징입니다. 설탕이나 시럽 추가 가능합니다.\n",
      "9. 아이스 아메리카노\n",
      "   • 가격: ₩4,500\n",
      "   • 주요 원료: 에스프레소, 차가운 물, 얼음\n",
      "   • 설명: 진한 에스프레소에 차가운 물과 얼음을 넣어 만든 시원한 아이스 커피입니다. 깔끔하고 시원한 맛이 특징이며, 원두 본연의 풍미를 느낄 수 있습니다. 더운 날씨에 인기가 높습니다.\u001b[0m\u001b[32;1m\u001b[1;3m아메리카노는 다음과 같은 특징과 가격을 가지고 있습니다.\n",
      "\n",
      "1. 아메리카노\n",
      "   - 가격: ₩4,500\n",
      "   - 주요 원료: 에스프레소, 뜨거운 물\n",
      "   - 설명: 진한 에스프레소에 뜨거운 물을 더해 만든 클래식한 블랙 커피입니다. 원두 본연의 맛을 가장 잘 느낄 수 있으며, 깔끔하고 깊은 풍미가 특징입니다. 설탕이나 시럽 추가 가능합니다.\n",
      "\n",
      "2. 아이스 아메리카노\n",
      "   - 가격: ₩4,500\n",
      "   - 주요 원료: 에스프레소, 차가운 물, 얼음\n",
      "   - 설명: 진한 에스프레소에 차가운 물과 얼음을 넣어 만든 시원한 아이스 커피입니다. 깔끔하고 시원한 맛이 특징이며, 원두 본연의 풍미를 느낄 수 있습니다. 더운 날씨에 인기가 높습니다.\u001b[0m\n",
      "\n",
      "\u001b[1m> Finished chain.\u001b[0m\n",
      "\n",
      "🔍 최종 응답:\n",
      " 아메리카노는 다음과 같은 특징과 가격을 가지고 있습니다.\n",
      "\n",
      "1. 아메리카노\n",
      "   - 가격: ₩4,500\n",
      "   - 주요 원료: 에스프레소, 뜨거운 물\n",
      "   - 설명: 진한 에스프레소에 뜨거운 물을 더해 만든 클래식한 블랙 커피입니다. 원두 본연의 맛을 가장 잘 느낄 수 있으며, 깔끔하고 깊은 풍미가 특징입니다. 설탕이나 시럽 추가 가능합니다.\n",
      "\n",
      "2. 아이스 아메리카노\n",
      "   - 가격: ₩4,500\n",
      "   - 주요 원료: 에스프레소, 차가운 물, 얼음\n",
      "   - 설명: 진한 에스프레소에 차가운 물과 얼음을 넣어 만든 시원한 아이스 커피입니다. 깔끔하고 시원한 맛이 특징이며, 원두 본연의 풍미를 느낄 수 있습니다. 더운 날씨에 인기가 높습니다.\n"
     ]
    }
   ],
   "source": [
    "from langchain.chat_models import ChatOpenAI\n",
    "from langchain.agents import initialize_agent, AgentType\n",
    "\n",
    "llm = ChatOpenAI(model=\"gpt-4\", temperature=0)\n",
    "\n",
    "tools = [wiki_summary, tavily_search_func, db_search_cafe_func]\n",
    "\n",
    "agent = initialize_agent(\n",
    "    tools=tools,\n",
    "    llm=llm,\n",
    "    agent=AgentType.OPENAI_FUNCTIONS,\n",
    "    verbose=True\n",
    ")\n",
    "\n",
    "question = \"아메리카노의 가격과 특징은 무엇인가요?\"\n",
    "response = agent.run(question)\n",
    "\n",
    "print(\"\\n🔍 최종 응답:\\n\", response)\n"
   ]
  },
  {
   "cell_type": "markdown",
   "id": "859c3b73",
   "metadata": {},
   "source": [
    "### 문제 5-2 : Few-shot 프롬프팅을 활용한 카페 AI 어시스턴트"
   ]
  },
  {
   "cell_type": "code",
   "execution_count": 29,
   "id": "dc4e83fc",
   "metadata": {},
   "outputs": [],
   "source": [
    "from datetime import datetime\n",
    "from langchain_core.messages import AIMessage, HumanMessage, ToolMessage\n",
    "from langchain_core.prompts import ChatPromptTemplate\n",
    "from langchain_core.runnables import RunnableConfig, chain\n",
    "from langchain_openai import ChatOpenAI\n",
    "\n",
    "examples = [\n",
    "    HumanMessage(\"아메리카노 정보와 커피 역사를 알려주세요\", name=\"example_user\"),\n",
    "    AIMessage(\"메뉴 검색과 위키피디아 검색을 진행하겠습니다.\", name=\"example_assistant\"),\n",
    "    AIMessage(\"\", name=\"example_assistant\", tool_calls=[\n",
    "        {\"name\": \"db_search_cafe_func\", \"args\": {\"query\": \"아메리카노\"}, \"id\": \"1\"}\n",
    "    ]),\n",
    "    ToolMessage(\"아메리카노: ₩4,500, 에스프레소에 뜨거운 물을 넣은 커피 음료입니다.\", tool_call_id=\"1\"),\n",
    "    AIMessage(\"이제 커피의 역사 정보를 찾아보겠습니다.\", name=\"example_assistant\"),\n",
    "    AIMessage(\"\", name=\"example_assistant\", tool_calls=[\n",
    "        {\"name\": \"wiki_summary\", \"args\": {\"query\": \"커피 역사\"}, \"id\": \"2\"}\n",
    "    ]),\n",
    "    ToolMessage(\"커피는 에티오피아에서 유래되었으며, 이후 중동과 유럽을 거쳐 전 세계적으로 확산되었습니다.\", tool_call_id=\"2\"),\n",
    "    AIMessage(\"아메리카노(₩4,500)는 에스프레소에 뜨거운 물을 넣은 커피 음료입니다. 커피는 에티오피아에서 유래되어 전 세계로 퍼졌습니다.\", name=\"example_assistant\")\n",
    "]\n",
    "\n",
    "system = \"\"\"당신은 카페 메뉴 정보와 일반적인 음식/음료 지식을 제공하는 AI입니다.\n",
    "\n",
    "도구 사용 가이드라인:\n",
    "- db_search_cafe_func: 카페 메뉴 정보 (가격, 재료, 설명)\n",
    "- wiki_summary: 일반 지식 (역사, 제조법, 문화적 배경)\n",
    "- tavily_search_func: 최신 정보 (트렌드, 뉴스, 실시간 정보)\n",
    "\n",
    "사용 원칙:\n",
    "1. 카페 메뉴 관련 질문 → 반드시 메뉴 DB 먼저 검색\n",
    "2. 역사/문화/일반 지식 → 위키피디아 활용\n",
    "3. 최신 트렌드/뉴스 → 웹 검색 활용\n",
    "4. 복합 질문 → 여러 도구 순차 사용\n",
    "5. 정보 출처를 명확히 구분하여 답변\n",
    "\n",
    "오늘 날짜: \"\"\" + datetime.today().strftime(\"%Y-%m-%d\")\n",
    "\n",
    "few_shot_prompt = ChatPromptTemplate.from_messages([\n",
    "    (\"system\", system),\n",
    "    *examples,\n",
    "    (\"human\", \"{user_input}\"),\n",
    "    (\"placeholder\", \"{messages}\"),\n",
    "])\n",
    "\n",
    "llm = ChatOpenAI(model=\"gpt-4o-mini\")\n",
    "\n",
    "tools = [db_search_cafe_func, wiki_summary, tavily_search_func] \n",
    "llm_with_tools = llm.bind_tools(tools=tools)\n",
    "\n",
    "fewshot_search_chain = few_shot_prompt | llm_with_tools\n"
   ]
  },
  {
   "cell_type": "code",
   "execution_count": 31,
   "id": "1ca6d4dc",
   "metadata": {},
   "outputs": [
    {
     "name": "stdout",
     "output_type": "stream",
     "text": [
      "db_search_cafe_func → args: {'query': '카페라떼'}\n",
      "wiki_summary → args: {'query': '라떼의 유래'}\n",
      "('### 카페라떼 정보\\n'\n",
      " '**카페라떼**는 에스프레소에 뜨거운 우유를 더한 커피 음료입니다. 일반적으로 가격은 ₩6,000입니다. 카페라떼는 부드러운 우유와 '\n",
      " '커피의 조화로 편안한 맛을 제공합니다.\\n'\n",
      " '\\n'\n",
      " '### 카페라떼와 어울리는 디저트\\n'\n",
      " '카페라떼와 잘 어울리는 디저트로는 다음과 같은 것들이 있습니다:\\n'\n",
      " '- **케이크**: 초콜릿 케이크, 치즈 케이크 등.\\n'\n",
      " '- **파이**: 사과 파이, 블루베리 파이.\\n'\n",
      " '- **쿠키**: 초코칩 쿠키, 오트밀 쿠키.\\n'\n",
      " '\\n'\n",
      " '이러한 디저트들은 카페라떼의 크리미한 맛과 잘 어울려 즐거운 조화를 이룹니다.\\n'\n",
      " '\\n'\n",
      " '### 라떼의 유래\\n'\n",
      " '라떼(또는 카페 라떼)는 에스프레소에 데운 우유를 혼합한 음료로, “우유가 들어간 커피”를 의미합니다. 역사는 이탈리아에서 시작되었으며, '\n",
      " '전통적으로는 커피와 우유의 비율이 1:3 또는 1:2로 되어 있습니다. 라떼는 일반적으로 아침 식사와 함께 제공되며, 에스프레소와 우유 '\n",
      " '비율에 따라 크기와 농도가 달라질 수 있습니다.')\n"
     ]
    }
   ],
   "source": [
    "\n",
    "@chain\n",
    "def cafe_assistant_chain(user_input: str, config: RunnableConfig):\n",
    "    input_ = {\"user_input\": user_input}\n",
    "    ai_msg = fewshot_search_chain.invoke(input_, config=config)\n",
    "\n",
    "    tool_msgs = []\n",
    "    for tool_call in ai_msg.tool_calls:\n",
    "        print(f\"{tool_call['name']} → args: {tool_call['args']}\")\n",
    "        if tool_call[\"name\"] == \"db_search_cafe_func\":\n",
    "            tool_msg = db_search_cafe_func.invoke(tool_call, config=config)\n",
    "        elif tool_call[\"name\"] == \"wiki_summary\":\n",
    "            tool_msg = wiki_summary.invoke(tool_call, config=config)\n",
    "        elif tool_call[\"name\"] == \"tavily_search_func\":\n",
    "            tool_msg = tavily_search_func.invoke(tool_call, config=config)\n",
    "        else:\n",
    "            continue\n",
    "        tool_msgs.append(tool_msg)\n",
    "\n",
    "    return fewshot_search_chain.invoke({**input_, \"messages\": [ai_msg, *tool_msgs]}, config=config)\n",
    "\n",
    "query = \"카페라떼와 어울리는 디저트는 무엇인가요? 그리고 라떼의 유래도 알려주세요.\"\n",
    "response = cafe_assistant_chain.invoke(query)\n",
    "\n",
    "pprint(response.content)\n"
   ]
  }
 ],
 "metadata": {
  "kernelspec": {
   "display_name": "langchain-basic-kGdHTiMZ-py3.12",
   "language": "python",
   "name": "python3"
  },
  "language_info": {
   "codemirror_mode": {
    "name": "ipython",
    "version": 3
   },
   "file_extension": ".py",
   "mimetype": "text/x-python",
   "name": "python",
   "nbconvert_exporter": "python",
   "pygments_lexer": "ipython3",
   "version": "3.12.7"
  }
 },
 "nbformat": 4,
 "nbformat_minor": 5
}
