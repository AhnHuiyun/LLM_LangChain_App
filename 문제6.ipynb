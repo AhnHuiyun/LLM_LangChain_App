{
 "cells": [
  {
   "cell_type": "markdown",
   "id": "b5c39cef",
   "metadata": {},
   "source": [
    "### 문제 6-1 : 간단한 카페 주문 워크플로우 구현"
   ]
  },
  {
   "cell_type": "code",
   "execution_count": 1,
   "id": "b1ff26de",
   "metadata": {},
   "outputs": [
    {
     "data": {
      "text/plain": [
       "True"
      ]
     },
     "execution_count": 1,
     "metadata": {},
     "output_type": "execute_result"
    }
   ],
   "source": [
    "from dotenv import load_dotenv\n",
    "\n",
    "load_dotenv()"
   ]
  },
  {
   "cell_type": "code",
   "execution_count": 2,
   "id": "10f30fdb",
   "metadata": {},
   "outputs": [],
   "source": [
    "import re\n",
    "import os, json\n",
    "\n",
    "from textwrap import dedent\n",
    "from pprint import pprint\n",
    "\n",
    "import warnings\n",
    "warnings.filterwarnings(\"ignore\")"
   ]
  },
  {
   "cell_type": "code",
   "execution_count": 3,
   "id": "6debdb5a",
   "metadata": {},
   "outputs": [],
   "source": [
    "def load_menu_from_txt(file_path: str) -> dict:\n",
    "    menu = {}\n",
    "    with open(file_path, 'r', encoding='utf-8') as f:\n",
    "        lines = f.readlines()\n",
    "\n",
    "    name = None\n",
    "    for line in lines:\n",
    "        line = line.strip()\n",
    "        if re.match(r'^\\d+\\.\\s', line):  \n",
    "            name = line.split(\". \")[1].strip()\n",
    "        elif \"가격\" in line and name:\n",
    "            match = re.search(r'₩([0-9,]+)', line)\n",
    "            if match:\n",
    "                price = int(match.group(1).replace(\",\", \"\"))\n",
    "                menu[name] = price\n",
    "                name = None  \n",
    "\n",
    "    return menu\n"
   ]
  },
  {
   "cell_type": "code",
   "execution_count": 6,
   "id": "bc8cd0ea",
   "metadata": {},
   "outputs": [
    {
     "data": {
      "image/png": "[encoded data removed]",
      "text/plain": [
       "<IPython.core.display.Image object>"
      ]
     },
     "metadata": {},
     "output_type": "display_data"
    }
   ],
   "source": [
    "from typing import TypedDict, List\n",
    "from langgraph.graph import StateGraph, START, END\n",
    "from IPython.display import Image, display\n",
    "\n",
    "MENU_PRICES = load_menu_from_txt(\"../data/cafe_menu_data.txt\")\n",
    "\n",
    "class OrderState(TypedDict):\n",
    "    selected_menu: str\n",
    "    options: List[str]\n",
    "    total_price: int\n",
    "    order_confirmed: bool\n",
    "\n",
    "OPTION_PRICES = {\n",
    "    \"샷 추가\": 500,\n",
    "    \"휘핑크림 추가\": 300,\n",
    "    \"시럽 추가\": 200\n",
    "}\n",
    "\n",
    "def select_menu(state: OrderState) -> OrderState:\n",
    "    menu_name = list(MENU_PRICES.keys())[0]  \n",
    "    print(f\"- 메뉴 선택: {menu_name}\")\n",
    "    return {\"selected_menu\": menu_name}\n",
    "\n",
    "def add_options(state: OrderState) -> OrderState:\n",
    "    options = [\"샷 추가\", \"시럽 추가\"]\n",
    "    print(f\"- 옵션 추가: {options}\")\n",
    "    return {\"options\": options}\n",
    "\n",
    "def calculate_price(state: OrderState) -> OrderState:\n",
    "    base_price = MENU_PRICES.get(state[\"selected_menu\"], 0)\n",
    "    option_price = sum(OPTION_PRICES.get(opt, 0) for opt in state[\"options\"])\n",
    "    total = base_price + option_price\n",
    "    print(f\"- 가격 계산: {base_price} + {option_price} = {total}원\")\n",
    "    return {\"total_price\": total}\n",
    "\n",
    "def confirm_order(state: OrderState) -> OrderState:\n",
    "    print(f\"- 주문 확인: {state['selected_menu']} + {state['options']} → 총 {state['total_price']}원\")\n",
    "    return {\"order_confirmed\": True}\n",
    "\n",
    "builder = StateGraph(OrderState)\n",
    "builder.add_node(\"select_menu\", select_menu)\n",
    "builder.add_node(\"add_options\", add_options)\n",
    "builder.add_node(\"calculate_price\", calculate_price)\n",
    "builder.add_node(\"confirm_order\", confirm_order)\n",
    "\n",
    "builder.add_edge(START, \"select_menu\")\n",
    "builder.add_edge(\"select_menu\", \"add_options\")\n",
    "builder.add_edge(\"add_options\", \"calculate_price\")\n",
    "builder.add_edge(\"calculate_price\", \"confirm_order\")\n",
    "builder.add_edge(\"confirm_order\", END)\n",
    "\n",
    "graph = builder.compile()\n",
    "\n",
    "display(Image(graph.get_graph().draw_mermaid_png()))"
   ]
  },
  {
   "cell_type": "code",
   "execution_count": 7,
   "id": "18026bd5",
   "metadata": {},
   "outputs": [
    {
     "name": "stdout",
     "output_type": "stream",
     "text": [
      "- 메뉴 선택: 아메리카노\n",
      "- 옵션 추가: ['샷 추가', '시럽 추가']\n",
      "- 가격 계산: 4500 + 700 = 5200원\n",
      "- 주문 확인: 아메리카노 + ['샷 추가', '시럽 추가'] → 총 5200원\n",
      "\n",
      "==> 최종 상태: {'selected_menu': '아메리카노', 'options': ['샷 추가', '시럽 추가'], 'total_price': 5200, 'order_confirmed': True}\n"
     ]
    }
   ],
   "source": [
    "initial_state = {\n",
    "    \"selected_menu\": \"\",\n",
    "    \"options\": [],\n",
    "    \"total_price\": 0,\n",
    "    \"order_confirmed\": False\n",
    "}\n",
    "\n",
    "final_state = graph.invoke(initial_state)\n",
    "\n",
    "print(\"\\n==> 최종 상태:\", final_state)\n"
   ]
  }
 ],
 "metadata": {
  "kernelspec": {
   "display_name": "langchain-basic-kGdHTiMZ-py3.12",
   "language": "python",
   "name": "python3"
  },
  "language_info": {
   "codemirror_mode": {
    "name": "ipython",
    "version": 3
   },
   "file_extension": ".py",
   "mimetype": "text/x-python",
   "name": "python",
   "nbconvert_exporter": "python",
   "pygments_lexer": "ipython3",
   "version": "3.12.7"
  }
 },
 "nbformat": 4,
 "nbformat_minor": 5
}
