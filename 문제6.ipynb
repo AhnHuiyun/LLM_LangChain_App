{
 "cells": [
  {
   "cell_type": "markdown",
   "id": "b5c39cef",
   "metadata": {},
   "source": [
    "### 문제 6-1 : 조건부 분기가 있는 메뉴 추천 시스템"
   ]
  },
  {
   "cell_type": "code",
   "execution_count": 1,
   "id": "b1ff26de",
   "metadata": {},
   "outputs": [
    {
     "data": {
      "text/plain": [
       "True"
      ]
     },
     "execution_count": 1,
     "metadata": {},
     "output_type": "execute_result"
    }
   ],
   "source": [
    "from dotenv import load_dotenv\n",
    "\n",
    "load_dotenv()"
   ]
  },
  {
   "cell_type": "code",
   "execution_count": 2,
   "id": "10f30fdb",
   "metadata": {},
   "outputs": [],
   "source": [
    "import re\n",
    "import os, json\n",
    "\n",
    "from textwrap import dedent\n",
    "from pprint import pprint\n",
    "\n",
    "import warnings\n",
    "warnings.filterwarnings(\"ignore\")"
   ]
  },
  {
   "cell_type": "code",
   "execution_count": 15,
   "id": "aa5d909d",
   "metadata": {},
   "outputs": [],
   "source": [
    "from typing import Annotated, TypedDict\n",
    "from langchain_core.messages import AnyMessage\n",
    "from langgraph.graph.message import add_messages\n",
    "\n",
    "# 기본 State 초기화 방법을 사용\n",
    "class GraphState(TypedDict):\n",
    "    messages: Annotated[list[AnyMessage], add_messages]"
   ]
  },
  {
   "cell_type": "code",
   "execution_count": 16,
   "id": "33fd9bc3",
   "metadata": {},
   "outputs": [],
   "source": [
    "from langchain_community.vectorstores import FAISS\n",
    "from langchain_ollama import OllamaEmbeddings\n",
    "\n",
    "embedding_model = OllamaEmbeddings(model=\"bge-m3:latest\")\n",
    "menu_db = FAISS.load_local(\n",
    "    \"../db/menu_db\", \n",
    "    embeddings=embedding_model,\n",
    "    allow_dangerous_deserialization=True\n",
    ")\n"
   ]
  },
  {
   "cell_type": "code",
   "execution_count": null,
   "id": "a77d8e48",
   "metadata": {},
   "outputs": [],
   "source": [
    "from typing import Literal\n",
    "from langgraph.graph import START, END, StateGraph\n",
    "from langchain_core.messages import AIMessage, HumanMessage\n",
    "from langchain_core.documents import Document\n",
    "from IPython.display import Image, display\n",
    "\n",
    "def extract_menu_info(doc: Document) -> dict:\n",
    "    content = doc.page_content\n",
    "    name = doc.metadata.get('menu_name', 'Unknown')\n",
    "    price = re.search(r'₩[\\d,]+', content)\n",
    "    desc = re.search(r'설명:\\s*(.+?)(?:\\n|$)', content, re.DOTALL)\n",
    "    return {\n",
    "        \"name\": name,\n",
    "        \"price\": price.group(0) if price else \"가격 정보 없음\",\n",
    "        \"description\": desc.group(1).strip() if desc else \"설명 없음\"\n",
    "    }\n",
    "\n",
    "def detect_query_type(state: GraphState) -> Literal[\"menu\", \"price\", \"recommend\"]:\n",
    "    msg = state[\"messages\"][-1].content.lower()\n",
    "    if \"추천\" in msg:\n",
    "        return \"recommend\"\n",
    "    elif \"가격\" in msg or \"얼마\" in msg:\n",
    "        return \"price\"\n",
    "    else:\n",
    "        return \"menu\"\n",
    "\n",
    "def handle_menu(state: GraphState) -> GraphState:\n",
    "    query = state[\"messages\"][-1].content\n",
    "    docs = menu_db.similarity_search(query, k=4)\n",
    "    if docs:\n",
    "        info = extract_menu_info(docs[0])\n",
    "        response = f\"'{info['name']}'를 추천해 드립니다.\\n{info['description']}\\n가격은 {info['price']}입니다.\"\n",
    "    else:\n",
    "        response = \"죄송해요, 해당 메뉴를 찾을 수 없었어요 😥\"\n",
    "    return {\"messages\": [AIMessage(content=response)]}\n",
    "\n",
    "def handle_price(state: GraphState) -> GraphState:\n",
    "    docs = menu_db.similarity_search(\"메뉴 가격\", k=5)\n",
    "    lines = []\n",
    "    for doc in docs:\n",
    "        info = extract_menu_info(doc)\n",
    "        lines.append(f\"{info['name']}: {info['price']}\")\n",
    "    response = \"요청하신 메뉴 가격들이에요:\\n\" + \"\\n\".join(lines)\n",
    "    return {\"messages\": [AIMessage(content=response)]}\n",
    "\n",
    "def handle_recommend(state: GraphState) -> GraphState:\n",
    "    query = state[\"messages\"][-1].content\n",
    "    docs = menu_db.similarity_search(query, k=3)\n",
    "    if not docs:\n",
    "        docs = menu_db.similarity_search(\"인기 메뉴\", k=3)\n",
    "    response = \"고객님께 추천드리는 메뉴에요!\\n\"\n",
    "    for doc in docs:\n",
    "        info = extract_menu_info(doc)\n",
    "        response += f\"- {info['name']} ({info['price']}): {info['description']}\\n\"\n",
    "    return {\"messages\": [AIMessage(content=response.strip())]}\n"
   ]
  },
  {
   "cell_type": "code",
   "execution_count": 32,
   "id": "578c6115",
   "metadata": {},
   "outputs": [
    {
     "data": {
      "image/png": "[encoded data removed]",
      "text/plain": [
       "<IPython.core.display.Image object>"
      ]
     },
     "metadata": {},
     "output_type": "display_data"
    }
   ],
   "source": [
    "\n",
    "builder = StateGraph(GraphState)\n",
    "\n",
    "builder.add_node(\"menu\", handle_menu)\n",
    "builder.add_node(\"price\", handle_price)\n",
    "builder.add_node(\"recommend\", handle_recommend)\n",
    "\n",
    "builder.add_conditional_edges(\n",
    "    START,\n",
    "    detect_query_type,\n",
    "    {\n",
    "        \"menu\": \"menu\",\n",
    "        \"price\": \"price\",\n",
    "        \"recommend\": \"recommend\"\n",
    "    }\n",
    ")\n",
    "\n",
    "builder.add_edge(\"menu\", END)\n",
    "builder.add_edge(\"price\", END)\n",
    "builder.add_edge(\"recommend\", END)\n",
    "\n",
    "graph = builder.compile()\n",
    "display(Image(graph.get_graph().draw_mermaid_png()))\n"
   ]
  },
  {
   "cell_type": "code",
   "execution_count": 33,
   "id": "31f869d7",
   "metadata": {},
   "outputs": [
    {
     "name": "stdout",
     "output_type": "stream",
     "text": [
      "(\"'티라미수'를 추천해 드립니다.\\n\"\n",
      " '부드러운 마스카포네 치즈 크림과 에스프레소에 적신 레이디핑거 비스킷을 층층이 쌓아 만든 이탈리아 정통 디저트입니다. 고소한 카카오 '\n",
      " '파우더를 듬뿍 뿌려 풍미를 더했습니다. 커피의 쌉싸름함과 치즈의 부드러움이 조화롭게 어우러집니다.\\n'\n",
      " '가격은 ₩9,000입니다.')\n"
     ]
    }
   ],
   "source": [
    "initial_state = {\n",
    "    \"messages\": [HumanMessage(content=\"카라멜 마키아토 설명해줘\")],\n",
    "}\n",
    "final_state = graph.invoke(initial_state)\n",
    "\n",
    "pprint(final_state[\"messages\"][-1].content)\n"
   ]
  }
 ],
 "metadata": {
  "kernelspec": {
   "display_name": "langchain-basic-kGdHTiMZ-py3.12",
   "language": "python",
   "name": "python3"
  },
  "language_info": {
   "codemirror_mode": {
    "name": "ipython",
    "version": 3
   },
   "file_extension": ".py",
   "mimetype": "text/x-python",
   "name": "python",
   "nbconvert_exporter": "python",
   "pygments_lexer": "ipython3",
   "version": "3.12.7"
  }
 },
 "nbformat": 4,
 "nbformat_minor": 5
}
