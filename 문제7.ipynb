{
 "cells": [
  {
   "cell_type": "markdown",
   "id": "a6ff4ef4",
   "metadata": {},
   "source": [
    "### 문제 7-1 : LangGraph ReAct Agent 실습 연습문제 (Vector DB + Tool 연동) "
   ]
  },
  {
   "cell_type": "code",
   "execution_count": 47,
   "id": "c5d398cd",
   "metadata": {},
   "outputs": [
    {
     "data": {
      "text/plain": [
       "True"
      ]
     },
     "execution_count": 47,
     "metadata": {},
     "output_type": "execute_result"
    }
   ],
   "source": [
    "from dotenv import load_dotenv\n",
    "load_dotenv()"
   ]
  },
  {
   "cell_type": "code",
   "execution_count": 48,
   "id": "b54111ae",
   "metadata": {},
   "outputs": [],
   "source": [
    "import re\n",
    "import os, json\n",
    "\n",
    "from textwrap import dedent\n",
    "from pprint import pprint\n",
    "\n",
    "import uuid\n",
    "\n",
    "import warnings\n",
    "warnings.filterwarnings(\"ignore\")"
   ]
  },
  {
   "cell_type": "code",
   "execution_count": 49,
   "id": "43cb86cf",
   "metadata": {},
   "outputs": [],
   "source": [
    "from langchain_community.vectorstores import FAISS\n",
    "from langchain_ollama import OllamaEmbeddings\n",
    "from langchain_core.tools import tool\n",
    "from typing import List\n",
    "\n",
    "embedding_model = OllamaEmbeddings(model=\"bge-m3:latest\")\n",
    "menu_db = FAISS.load_local(\"../db/menu_db\", embedding_model, allow_dangerous_deserialization=True)\n",
    "\n",
    "@tool\n",
    "def search_cafe_menu(query: str) -> List[str]:\n",
    "    \"\"\"카페 메뉴에서 정보를 검색합니다.\"\"\"\n",
    "    docs = menu_db.similarity_search(query, k=6)\n",
    "\n",
    "    formatted_docs = \"\\n\\n---\\n\\n\".join(\n",
    "        [\n",
    "            f'<Document source=\"{doc.metadata[\"source\"]}\"/>\\n{doc.page_content}\\n</Document>'\n",
    "            for doc in docs\n",
    "        ]\n",
    "    )\n",
    "\n",
    "    if len(docs) > 0:\n",
    "        return formatted_docs\n",
    "    \n",
    "    return \"관련 메뉴 정보를 찾을 수 없습니다.\""
   ]
  },
  {
   "cell_type": "code",
   "execution_count": 59,
   "id": "965078ed",
   "metadata": {},
   "outputs": [],
   "source": [
    "from langgraph.graph import MessagesState\n",
    "from langchain_core.runnables import RunnableLambda\n",
    "from langchain_core.messages import HumanMessage\n",
    "from langchain_core.prompts import ChatPromptTemplate\n",
    "from langchain_openai import ChatOpenAI\n",
    "\n",
    "class AgentState(MessagesState):\n",
    "    pass\n",
    "\n",
    "llm = ChatOpenAI(model=\"gpt-4o-mini\", streaming=True)\n",
    "\n",
    "prompt = ChatPromptTemplate.from_messages([\n",
    "    (\"system\", dedent(\"\"\"\n",
    "        당신은 카페 메뉴 전문 AI입니다.\n",
    "        아래 사용자 질문에 대해 직접 답하거나 필요한 경우 도구를 사용해 정보를 검색하세요.\n",
    "        가능한 경우 'search_cafe_menu' 도구를 사용하세요.\n",
    "    \"\"\")),\n",
    "    (\"placeholder\", \"{messages}\"),\n",
    "])\n",
    "\n",
    "agent_runnable = prompt | llm\n",
    "\n",
    "agent_node = RunnableLambda(\n",
    "    lambda state: {\n",
    "        \"messages\": state[\"messages\"] + [agent_runnable.invoke(state)]\n",
    "    }\n",
    ")"
   ]
  },
  {
   "cell_type": "code",
   "execution_count": null,
   "id": "9e4e7c18",
   "metadata": {},
   "outputs": [
    {
     "data": {
      "image/png": "[encoded data removed]",
      "text/plain": [
       "<IPython.core.display.Image object>"
      ]
     },
     "metadata": {},
     "output_type": "display_data"
    }
   ],
   "source": [
    "from langgraph.graph import StateGraph, START, END\n",
    "from langgraph.prebuilt import ToolNode, tools_condition\n",
    "from IPython.display import Image, display\n",
    "\n",
    "builder = StateGraph(AgentState)\n",
    "builder.add_node(\"agent\", agent_node)\n",
    "builder.add_node(\"tools\", tool_node)\n",
    "\n",
    "builder.add_edge(START, \"agent\")  \n",
    "builder.add_conditional_edges(\"agent\", tools_condition)\n",
    "builder.add_edge(\"tools\", \"agent\")\n",
    "builder.add_edge(\"agent\", END)   \n",
    "\n",
    "graph = builder.compile()\n",
    "\n",
    "display(Image(graph.get_graph().draw_mermaid_png()))\n"
   ]
  },
  {
   "cell_type": "code",
   "execution_count": 56,
   "id": "611c77dd",
   "metadata": {},
   "outputs": [
    {
     "name": "stdout",
     "output_type": "stream",
     "text": [
      "================================\u001b[1m Human Message \u001b[0m=================================\n",
      "\n",
      "아메리카노와 아이스 아메리카노의 차이점과 가격을 알려주세요.\n",
      "==================================\u001b[1m Ai Message \u001b[0m==================================\n",
      "\n",
      "아메리카노와 아이스 아메리카노의 차이점은 주로 온도와 제공 방식에 있습니다.\n",
      "\n",
      "1. **아메리카노**: 뜨거운 물에 에스프레소를 섞은 음료로, 보통 따뜻한 상태로 제공됩니다. 이를 통해 부드러운 커피 맛을 느낄 수 있습니다.\n",
      "\n",
      "2. **아이스 아메리카노**: 에스프레소에 차가운 물과 얼음을 추가하여 만든 음료입니다. 더운 날씨에 시원하게 즐길 수 있는 옵션입니다.\n",
      "\n",
      "가격은 카페마다 다르지만, 일반적으로 아메리카노와 아이스 아메리카노의 가격 차이는 크지 않습니다. 보통 3,000원에서 5,000원 사이에 판매되며, 지역이나 카페의 고유 특성에 따라 다를 수 있습니다. 구체적인 가격 정보가 필요하다면 특정 카페를 알려주시면 더욱 정확한 정보를 제공할 수 있습니다.\n",
      "================================\u001b[1m Human Message \u001b[0m=================================\n",
      "\n",
      "라떼 종류에는 어떤 메뉴들이 있고 각각의 특징은 무엇인가요?\n",
      "==================================\u001b[1m Ai Message \u001b[0m==================================\n",
      "\n",
      "라떼는 에스프레소와 스팀 밀크, 밀크 폼이 조화를 이루는 음료로, 다양한 변형이 있습니다. 대표적인 라떼 종류와 각각의 특징은 다음과 같습니다:\n",
      "\n",
      "1. **카페 라떼 (Café Latte)**:\n",
      "   - 에스프레소와 스팀 밀크를 비율로 섞은 음료입니다. 일반적으로 에스프레소 1샷에 대해 스팀 밀크가 3배 정도 들어가고, 그 위에 밀크 폼이 소량 얹혀집니다.\n",
      "   - 부드럽고 크리미한 맛이 특징입니다.\n",
      "\n",
      "2. **바닐라 라떼 (Vanilla Latte)**:\n",
      "   - 기본 카페 라떼에 바닐라 시럽을 추가한 음료입니다.\n",
      "   - 달콤한 바닐라 향이 더해져, 부드러운 맛을 강조합니다.\n",
      "\n",
      "3. **카라멜 라떼 (Caramel Latte)**:\n",
      "   - 카페 라떼에 카라멜 시럽을 추가한 변형입니다.\n",
      "   - 진한 카라멜의 단맛과 쌉싸름한 커피의 조화가 특징입니다.\n",
      "\n",
      "4. **모카 라떼 (Mocha Latte)**:\n",
      "   - 카페 라떼에 초콜릿 시럽이나 초콜릿 밀크를 추가한 것입니다.\n",
      "   - 초콜릿 맛이 더해져 달콤하고 풍부한 맛을 제공합니다.\n",
      "\n",
      "5. **녹차 라떼 (Matcha Latte)**:\n",
      "   - 에스프레소 대신 녹차가루(말차)를 사용한 라떼입니다.\n",
      "   - 고소하고 아삭한 맛과 함께 부드러운 질감을 제공합니다.\n",
      "\n",
      "6. **단호박 라떼 (Pumpkin Latte)**:\n",
      "   - 가을 시즌에 많이 즐기는 음료로, 단호박 퓨레와 시나몬, 넛맥 등을 추가한 라떼입니다.\n",
      "   - 따뜻하고 할머니의 맛을 느낄 수 있는 음료입니다.\n",
      "\n",
      "이 외에도 여러 가지 시럽이나 향신료를 추가하여 다양하게 즐길 수 있는 라떼가 많습니다. 라떼는 각 지역이나 카페에 따라 독특한 변형이 있을 수 있으니, 새로운 조합을 시도해 보는 것도 좋습니다!\n",
      "================================\u001b[1m Human Message \u001b[0m=================================\n",
      "\n",
      "디저트 메뉴 중에서 티라미수에 대해 자세히 설명해주세요.\n",
      "==================================\u001b[1m Ai Message \u001b[0m==================================\n",
      "\n",
      "티라미수는 이탈리아의 전통적인 디저트로, 부드러운 크림과 커피, 카카오가 어우러진 매력적인 맛이 특징입니다. 일반적으로 다음과 같은 재료로 구성됩니다:\n",
      "\n",
      "1. **마스카포네 치즈**: 부드럽고 크리미한 식감을 제공하는 이탈리아산 치즈입니다.\n",
      "2. **계란**: 주로 노른자와 흰자를 나누어 사용하여 크림에 부드러움을 더합니다.\n",
      "3. **설탕**: 단맛을 추가하는 역할을 합니다.\n",
      "4. **커피**: 보통 에스프레소를 사용하여 적신 레이디핑거(비스킷)를 촉촉하게 만듭니다.\n",
      "5. **레이디핑거**: 커피에 적신 스폰지 비스킷으로, 티라미수의 층을 형성합니다.\n",
      "6. **코코아 가루**: 최종적으로 뿌려져 풍미를 더하고 꾸미기 역할을 합니다.\n",
      "7. **주류**: 마르살라(이탈리아의 강화 와인)나 럼을 가끔 추가하여 깊은 맛을 내기도 합니다.\n",
      "\n",
      "티라미수는 보통 여러 층으로 쌓아 만들어지며, 냉장고에서 일정 시간 숙성시킨 후 제공됩니다. 완성된 티라미수는 부드럽고 크리미한 질감과 커피의 쌉쌀함, 설탕의 단맛, 코코아의 쌉싸름함이 조화롭게 어우러져 있습니다. 다양한 변형이 존재해, 다양한 맛과 텍스처를 가진 티라미수를 즐길 수 있습니다.\n"
     ]
    }
   ],
   "source": [
    "inputs = [\n",
    "    \"아메리카노와 아이스 아메리카노의 차이점과 가격을 알려주세요.\",\n",
    "    \"라떼 종류에는 어떤 메뉴들이 있고 각각의 특징은 무엇인가요?\",\n",
    "    \"디저트 메뉴 중에서 티라미수에 대해 자세히 설명해주세요.\"\n",
    "]\n",
    "\n",
    "for i in inputs:\n",
    "    inputs = {\"messages\": [HumanMessage(content=i)]}\n",
    "    messages = graph.invoke(inputs)\n",
    "\n",
    "    for m in messages[\"messages\"]:\n",
    "        m.pretty_print()\n"
   ]
  }
 ],
 "metadata": {
  "kernelspec": {
   "display_name": "langchain-basic-kGdHTiMZ-py3.12",
   "language": "python",
   "name": "python3"
  },
  "language_info": {
   "codemirror_mode": {
    "name": "ipython",
    "version": 3
   },
   "file_extension": ".py",
   "mimetype": "text/x-python",
   "name": "python",
   "nbconvert_exporter": "python",
   "pygments_lexer": "ipython3",
   "version": "3.12.7"
  }
 },
 "nbformat": 4,
 "nbformat_minor": 5
}
